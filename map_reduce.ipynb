{
 "cells": [
  {
   "cell_type": "markdown",
   "id": "655d8d98",
   "metadata": {},
   "source": [
    "# MapReduce\n",
    "\n",
    "MapReduce é uma maneira de transformação de dados, que faz uso de programação paralela e distribuída.\n",
    "\n",
    "Originalmente são duas operações separadas: map e reduce\n",
    "\n",
    "Map é transformação de uma sequência de dados. Por exemplo, você quer aplicar uma transformação em todos os elementos de uma lista\n"
   ]
  },
  {
   "cell_type": "markdown",
   "id": "efa58bf4",
   "metadata": {},
   "source": [
    "### Map"
   ]
  },
  {
   "cell_type": "code",
   "execution_count": 1,
   "id": "80cca161",
   "metadata": {},
   "outputs": [],
   "source": [
    "def sum_seven(element):\n",
    "    \"\"\"\n",
    "    we just want to sum +7 in each element of a list\n",
    "    \"\"\"\n",
    "    return element + 7"
   ]
  },
  {
   "cell_type": "code",
   "execution_count": 2,
   "id": "f4fdf85c",
   "metadata": {},
   "outputs": [],
   "source": [
    "my_list = [1, 2, 8, 7, 4]"
   ]
  },
  {
   "cell_type": "code",
   "execution_count": 3,
   "id": "f3867e87",
   "metadata": {},
   "outputs": [
    {
     "data": {
      "text/plain": [
       "<map at 0x111227d90>"
      ]
     },
     "execution_count": 3,
     "metadata": {},
     "output_type": "execute_result"
    }
   ],
   "source": [
    "map(sum_seven, my_list)"
   ]
  },
  {
   "cell_type": "markdown",
   "id": "1b22ac71",
   "metadata": {},
   "source": [
    "MapReduce são funções lazy.\n",
    "\n",
    "Isso significa que apenas serão executadas quando necessário, ou seja, a menos que uma operação de output seja invocada, mapReduce irá apenas alocar um espaço na memória."
   ]
  },
  {
   "cell_type": "code",
   "execution_count": 4,
   "id": "bc67330d",
   "metadata": {},
   "outputs": [
    {
     "data": {
      "text/plain": [
       "[8, 9, 15, 14, 11]"
      ]
     },
     "execution_count": 4,
     "metadata": {},
     "output_type": "execute_result"
    }
   ],
   "source": [
    "list(map(sum_seven, my_list))"
   ]
  },
  {
   "cell_type": "code",
   "execution_count": 5,
   "id": "1076107f",
   "metadata": {},
   "outputs": [],
   "source": [
    "\"\"\"\n",
    "Dadas duas listas, calcule a difereça entre elas\n",
    "\"\"\"\n",
    "\n",
    "def addition(x, y):\n",
    "    return x + y\n",
    "\n",
    "\n",
    "def subtraction(x, y):\n",
    "    return x - y\n",
    " \n",
    "fisrt = [6, 5, 3, 9]\n",
    "second = [0, 1, 7, 7]\n",
    "addition_output = map(addition, fisrt, second)\n",
    "subtraction_output = map(subtraction, fisrt, second)"
   ]
  },
  {
   "cell_type": "code",
   "execution_count": 6,
   "id": "bfef5790",
   "metadata": {},
   "outputs": [
    {
     "data": {
      "text/plain": [
       "[6, 6, 10, 16]"
      ]
     },
     "execution_count": 6,
     "metadata": {},
     "output_type": "execute_result"
    }
   ],
   "source": [
    "list(addition_output)"
   ]
  },
  {
   "cell_type": "code",
   "execution_count": 7,
   "id": "62cbc4be",
   "metadata": {},
   "outputs": [
    {
     "data": {
      "text/plain": [
       "[6, 4, -4, 2]"
      ]
     },
     "execution_count": 7,
     "metadata": {},
     "output_type": "execute_result"
    }
   ],
   "source": [
    "list(subtraction_output)"
   ]
  },
  {
   "cell_type": "code",
   "execution_count": 8,
   "id": "e761acd8",
   "metadata": {},
   "outputs": [],
   "source": [
    "from functools import reduce\n",
    "\n",
    "\n",
    "myNumbers = [3, 4, 6, 9, 34, 12]\n",
    "\n",
    "\n",
    "def custom_sum(first, second):\n",
    "    return first + second\n",
    "    \n",
    "\n",
    "result = reduce(custom_sum, myNumbers)"
   ]
  },
  {
   "cell_type": "code",
   "execution_count": 9,
   "id": "3caa5cf2",
   "metadata": {},
   "outputs": [
    {
     "data": {
      "text/plain": [
       "68"
      ]
     },
     "execution_count": 9,
     "metadata": {},
     "output_type": "execute_result"
    }
   ],
   "source": [
    "result"
   ]
  },
  {
   "cell_type": "code",
   "execution_count": 10,
   "id": "9ce137b2",
   "metadata": {},
   "outputs": [],
   "source": [
    "from functools import reduce \n",
    "\n",
    "# Use map to print the square of each numbers rounded\n",
    "# to three decimal places\n",
    "my_floats = [4.35, 6.09, 3.25, 9.77, 2.16, 8.88, 4.59]\n",
    "\n",
    "\n",
    "# Use reduce to print the product of these numbers\n",
    "my_numbers = [4, 6, 9, 23, 5]\n",
    "\n",
    "# Fix all three respectively.\n",
    "map_result = list(map(lambda x: x ** 2, my_floats))\n",
    "reduce_result = reduce(lambda num1, num2: num1 * num2, my_numbers)"
   ]
  },
  {
   "cell_type": "code",
   "execution_count": 11,
   "id": "d8e6a912",
   "metadata": {},
   "outputs": [
    {
     "data": {
      "text/plain": [
       "24840"
      ]
     },
     "execution_count": 11,
     "metadata": {},
     "output_type": "execute_result"
    }
   ],
   "source": [
    "reduce_result"
   ]
  },
  {
   "cell_type": "code",
   "execution_count": 12,
   "id": "dcf4b79b",
   "metadata": {},
   "outputs": [
    {
     "data": {
      "text/plain": [
       "[18.922499999999996,\n",
       " 37.0881,\n",
       " 10.5625,\n",
       " 95.45289999999999,\n",
       " 4.6656,\n",
       " 78.85440000000001,\n",
       " 21.068099999999998]"
      ]
     },
     "execution_count": 12,
     "metadata": {},
     "output_type": "execute_result"
    }
   ],
   "source": [
    "map_result"
   ]
  },
  {
   "cell_type": "code",
   "execution_count": null,
   "id": "5a5fa0c7",
   "metadata": {},
   "outputs": [],
   "source": []
  }
 ],
 "metadata": {
  "kernelspec": {
   "display_name": "Python 3 (ipykernel)",
   "language": "python",
   "name": "python3"
  },
  "language_info": {
   "codemirror_mode": {
    "name": "ipython",
    "version": 3
   },
   "file_extension": ".py",
   "mimetype": "text/x-python",
   "name": "python",
   "nbconvert_exporter": "python",
   "pygments_lexer": "ipython3",
   "version": "3.9.0"
  }
 },
 "nbformat": 4,
 "nbformat_minor": 5
}
